{
 "cells": [
  {
   "cell_type": "markdown",
   "id": "471a7fa0",
   "metadata": {},
   "source": [
    "### Curriculum Learning Environment (Not Continual)\n",
    "\n",
    "This is based on the UnlockPickUpEnv implementation. This will implement a simple linear curriculum to guide the model in the right direction for learning more complex tasks.\n",
    "\n",
    "The baseline model struggled to learn DoorKey-5x5, whilst learning Empty-5x5 with no problem. This notebook should enable to model to sequentially build up from Empty-5x5 all the way to (hopefully) UnlockPickup-0v with the current DQN model"
   ]
  },
  {
   "cell_type": "markdown",
   "id": "f3ec7dfe",
   "metadata": {},
   "source": [
    "**Imports**"
   ]
  },
  {
   "cell_type": "code",
   "execution_count": 1,
   "id": "fc8c7d7d",
   "metadata": {},
   "outputs": [
    {
     "name": "stderr",
     "output_type": "stream",
     "text": [
      "c:\\Users\\Logan\\anaconda3\\envs\\lnn_env\\lib\\site-packages\\pygame\\pkgdata.py:25: UserWarning: pkg_resources is deprecated as an API. See https://setuptools.pypa.io/en/latest/pkg_resources.html. The pkg_resources package is slated for removal as early as 2025-11-30. Refrain from using this package or pin to Setuptools<81.\n",
      "  from pkg_resources import resource_stream, resource_exists\n"
     ]
    }
   ],
   "source": [
    "import gymnasium as gym\n",
    "import minigrid\n",
    "import math\n",
    "import random\n",
    "import time\n",
    "import matplotlib\n",
    "import matplotlib.pyplot as plt\n",
    "from collections import namedtuple, deque\n",
    "from itertools import count"
   ]
  },
  {
   "cell_type": "code",
   "execution_count": 2,
   "id": "7133f0b1",
   "metadata": {},
   "outputs": [],
   "source": [
    "import torch\n",
    "import torch.nn as nn\n",
    "import torch.optim as optim"
   ]
  },
  {
   "cell_type": "code",
   "execution_count": 3,
   "id": "fe99957b",
   "metadata": {},
   "outputs": [
    {
     "data": {
      "text/plain": [
       "<contextlib.ExitStack at 0x1159836ba90>"
      ]
     },
     "execution_count": 3,
     "metadata": {},
     "output_type": "execute_result"
    }
   ],
   "source": [
    "is_ipython = 'inline' in matplotlib.get_backend()\n",
    "if is_ipython:\n",
    "    from IPython import display\n",
    "\n",
    "plt.ion()"
   ]
  },
  {
   "cell_type": "code",
   "execution_count": 4,
   "id": "b2eb73cf",
   "metadata": {},
   "outputs": [
    {
     "name": "stdout",
     "output_type": "stream",
     "text": [
      "Action Space: Discrete(7)\n",
      "Observation Space: Dict('direction': Discrete(4), 'image': Box(0, 255, (7, 7, 3), uint8), 'mission': MissionSpace(<function EmptyEnv._gen_mission at 0x000001158D5F20E0>, None))\n"
     ]
    }
   ],
   "source": [
    "# Store a list of all the names of the curriculum tasks \n",
    "curriculum = [\n",
    "    'MiniGrid-Empty-5x5-v0',\n",
    "    # 'MiniGrid-FourRooms-v0',\n",
    "    'MiniGrid-DoorKey-5x5-v0',\n",
    "    'MiniGrid-KeyCorridorS3R1-v0',\n",
    "    'MiniGrid-MultiRoom-N2-S4-v0',\n",
    "    'MiniGrid-MultiRoom-N4-S5-v0',\n",
    "    'MiniGrid-Unlock-v0'\n",
    "]\n",
    "\n",
    "# Each environment shares the same input and output. Just use the first one for now\n",
    "env = gym.make(curriculum[0])\n",
    "\n",
    "# Print out the number of Discrete actions available (output variables)\n",
    "print(f'Action Space: {env.action_space}')\n",
    "\n",
    "# Print out observation space (input variables)\n",
    "print(f'Observation Space: {env.observation_space}')"
   ]
  },
  {
   "cell_type": "code",
   "execution_count": 5,
   "id": "a6b94c4b",
   "metadata": {},
   "outputs": [
    {
     "name": "stdout",
     "output_type": "stream",
     "text": [
      "Selected Device: cuda\n"
     ]
    }
   ],
   "source": [
    "device = torch.device(\n",
    "    'cuda' if torch.cuda.is_available() else 'cpu'\n",
    ")\n",
    "\n",
    "print(f'Selected Device: {device}')"
   ]
  },
  {
   "cell_type": "markdown",
   "id": "2e8b30b7",
   "metadata": {},
   "source": [
    "#### Replay Memory Buffer\n",
    "\n",
    "Stores past 'Transition' states of up to 10,000 (play around with this) of the latest experiences "
   ]
  },
  {
   "cell_type": "code",
   "execution_count": 6,
   "id": "4d79ab0c",
   "metadata": {},
   "outputs": [],
   "source": [
    "Transition = namedtuple('Transition', ('state', 'action', 'next_state', 'reward'))\n",
    "\n",
    "class ReplayMemory(object):\n",
    "\n",
    "    def __init__(self, capacity):\n",
    "        # Creates a deque object storing type array with a capacity\n",
    "        # Once capacity is reached, old experiences will automatically be overwriteen with the new\n",
    "        self.memory = deque([], maxlen=capacity)\n",
    "\n",
    "    # Save the transition to the memory\n",
    "    def push(self, *args):\n",
    "        self.memory.append(Transition(*args))\n",
    "\n",
    "    # Return batch_size samples for use in optimization \n",
    "    def sample(self, batch_size):\n",
    "        return random.sample(self.memory, batch_size)\n",
    "    \n",
    "    def __len__(self):\n",
    "        return len(self.memory)"
   ]
  },
  {
   "cell_type": "code",
   "execution_count": 7,
   "id": "8288daae",
   "metadata": {},
   "outputs": [],
   "source": [
    "# Import the custom NN model\n",
    "from DQN import Curriculum"
   ]
  },
  {
   "cell_type": "code",
   "execution_count": 8,
   "id": "c0f4c26b",
   "metadata": {},
   "outputs": [
    {
     "name": "stdout",
     "output_type": "stream",
     "text": [
      "7\n"
     ]
    }
   ],
   "source": [
    "BATCH_SIZE = 128\n",
    "GAMMA = 0.99 # Discount factor on future states\n",
    "\n",
    "# Epsilon-greedy variables needed\n",
    "EPS_START = 0.9 # Start off encouraging the model to explore\n",
    "EPS_END = 0.05 # After exploring, the model will stabilize and rarely explore\n",
    "EPS_DECAY = 1000 # Rate at which the epsilon threshold will decrease (exponent)\n",
    "\n",
    "TAU = 0.005 # Rate at which the target network will be updated\n",
    "LR = 1e-4 # Learning rate of the policy net\n",
    "\n",
    "# Store number of possible actions the model can take (7)\n",
    "n_actions = env.action_space.n\n",
    "\n",
    "state, _ = env.reset()\n",
    "\n",
    "# Number of inputs to the model. In this case there are 3 as shown above\n",
    "n_observations = len(state)\n",
    "\n",
    "print(n_actions)\n",
    "# Increase for a more complex network\n",
    "hidden_dim = 128\n",
    "\n",
    "# Create the policy and target network\n",
    "policy_network = Curriculum(n_actions, hidden_dim)\n",
    "target_network = Curriculum(n_actions, hidden_dim)\n",
    "\n",
    "# Initialize the target_network to be the same as policy (this is cruicial)\n",
    "target_network.load_state_dict(policy_network.state_dict())\n",
    "\n",
    "# Send models to device\n",
    "policy_network.to(device)\n",
    "target_network.to(device)\n",
    "\n",
    "optimizer = optim.AdamW(policy_network.parameters(), lr=LR, amsgrad=True)\n",
    "\n",
    "# Customize capacity for bigger nets\n",
    "memory = ReplayMemory(10_000)"
   ]
  },
  {
   "cell_type": "code",
   "execution_count": 9,
   "id": "b0f776f4",
   "metadata": {},
   "outputs": [],
   "source": [
    "steps_done = 0\n",
    "\n",
    "def select_action(state):\n",
    "    global steps_done\n",
    "\n",
    "    # Generate the random number for epsilon greedy selection\n",
    "    sample = random.random()\n",
    "    eps_threshold = EPS_END + (EPS_START - EPS_END) * math.exp(-1. * steps_done / EPS_DECAY)\n",
    "\n",
    "    # Greedy action selection takes place here\n",
    "    steps_done += 1\n",
    "    if sample > eps_threshold:\n",
    "        with torch.no_grad():\n",
    "            # PAss the state through the model without gradient descent (we're not learning here, just need an action)\n",
    "            # Select the max Q-Value (action) the model chose and return the reshaped index of said action\n",
    "            return policy_network(state).max(1).indices.view(1, 1)\n",
    "    else:\n",
    "        # If random action is selected, choose a random action from env, and send to device\n",
    "        return torch.tensor([[env.action_space.sample()]], device=device, dtype=torch.long)    \n"
   ]
  },
  {
   "cell_type": "markdown",
   "id": "afed409a",
   "metadata": {},
   "source": [
    "#### Plotting Definitions"
   ]
  },
  {
   "cell_type": "code",
   "execution_count": 10,
   "id": "9b267b28",
   "metadata": {},
   "outputs": [],
   "source": [
    "episode_durations = []\n",
    "episode_rewards = []\n",
    "\n",
    "# def plot_durations(show_result=False):\n",
    "#     plt.figure(1)\n",
    "#     durations_t = torch.tensor(episode_durations, dtype=torch.float)\n",
    "#     if show_result:\n",
    "#         plt.title('Result')\n",
    "#     else:\n",
    "#         plt.clf() # Clear current figure\n",
    "#         plt.title('Training...')\n",
    "\n",
    "#     plt.xlabel('Episode')\n",
    "#     plt.ylabel('Duration')\n",
    "#     plt.plot(durations_t.numpy())\n",
    "\n",
    "#     # Additionally, start plotting the mean after 100 episodes\n",
    "#     if len(durations_t) >= 100:\n",
    "#         means = durations_t.unfold(0, 100, 1).mean(1).view(-1)\n",
    "#         means = torch.cat((torch.zeros(99), means))\n",
    "#         plt.plot(means.numpy())\n",
    "\n",
    "#     plt.pause(0.001)\n",
    "#     if is_ipython:\n",
    "#         if not show_result:\n",
    "#             display.display(plt.gcf())\n",
    "#             display.clear_output(wait=True)\n",
    "#         else:\n",
    "#             display.display(plt.gcf())\n",
    "\n",
    "def plot_durations(show_result=False):\n",
    "    plt.figure(1)\n",
    "    plt.clf()\n",
    "    \n",
    "    durations_t = torch.tensor(episode_durations, dtype=torch.float)\n",
    "    rewards_t = torch.tensor(episode_rewards, dtype=torch.float)\n",
    "\n",
    "    plt.subplot(2, 1, 1)\n",
    "    plt.title('Episode Duration')\n",
    "    plt.xlabel('Episode')\n",
    "    plt.ylabel('Duration')\n",
    "    plt.plot(durations_t.numpy())\n",
    "    if len(durations_t) >= 100:\n",
    "        means = durations_t.unfold(0, 100, 1).mean(1).view(-1)\n",
    "        means = torch.cat((torch.zeros(99), means))\n",
    "        plt.plot(means.numpy())\n",
    "\n",
    "    plt.subplot(2, 1, 2)\n",
    "    plt.title('Episode Reward')\n",
    "    plt.xlabel('Episode')\n",
    "    plt.ylabel('Reward')\n",
    "    plt.plot(rewards_t.numpy())\n",
    "    if len(rewards_t) >= 100:\n",
    "        means = rewards_t.unfold(0, 100, 1).mean(1).view(-1)\n",
    "        means = torch.cat((torch.zeros(99), means))\n",
    "        plt.plot(means.numpy())\n",
    "\n",
    "    plt.tight_layout()\n",
    "    plt.pause(0.001)\n",
    "    if is_ipython:\n",
    "        if not show_result:\n",
    "            display.display(plt.gcf())\n",
    "            display.clear_output(wait=True)\n",
    "        else:\n",
    "            display.display(plt.gcf())\n"
   ]
  },
  {
   "cell_type": "markdown",
   "id": "bf396986",
   "metadata": {},
   "source": [
    "#### Model Optimization\n",
    "\n",
    "Where the learning of the policy network occurs"
   ]
  },
  {
   "cell_type": "code",
   "execution_count": 11,
   "id": "1d6eab8c",
   "metadata": {},
   "outputs": [],
   "source": [
    "def optimize_model():\n",
    "    \n",
    "    # Build up the memory first\n",
    "    if len(memory) < BATCH_SIZE:\n",
    "        return\n",
    "    \n",
    "    # Select a batch of memories to learn from\n",
    "    transitions = memory.sample(BATCH_SIZE)\n",
    "\n",
    "    # Reshape array of tuple Transitions into array of tensor transitions\n",
    "    # Combine into a single Transition capable of being batch processed\n",
    "    # I don't really get this line. Just reshapes and redefines\n",
    "    batch = Transition(*zip(*transitions))\n",
    "\n",
    "    non_terminal_mask = torch.tensor(\n",
    "        # For every state, if it's not terminal, return the next_state\n",
    "        tuple(map(lambda s: s is not None, batch.next_state)),\n",
    "        device=device,\n",
    "        dtype=torch.bool\n",
    "    )\n",
    "\n",
    "    # Extract all non-terminal next_states from the current batch\n",
    "    non_terminal_next_states = torch.cat([s for s in batch.next_state if s is not None])\n",
    "\n",
    "    # Store the state, action, and reward of each item in the batch\n",
    "    state_batch = torch.cat(batch.state)\n",
    "    action_batch = torch.cat(batch.action)\n",
    "    reward_batch = torch.cat(batch.reward)\n",
    "\n",
    "    # Select the corrosponding index of the actual action taken to get the Q-Value for that action\n",
    "    state_action_values = policy_network(state_batch).gather(1, action_batch)\n",
    "\n",
    "    next_states_values = torch.zeros(BATCH_SIZE, device=device)\n",
    "    with torch.no_grad():\n",
    "        # Get what action the target_network would have taken in this position\n",
    "        # Only in states that don't terminate\n",
    "        next_states_values[non_terminal_mask] = target_network(non_terminal_next_states).max(1).values\n",
    "\n",
    "    # Calculate the bellman equation for usage in the loss calculation\n",
    "    expected_state_action_values = (next_states_values * GAMMA) + reward_batch\n",
    "\n",
    "    # Calculate the loss\n",
    "    criterion = nn.SmoothL1Loss()\n",
    "    loss = criterion(state_action_values, expected_state_action_values.unsqueeze(1))\n",
    "\n",
    "    optimizer.zero_grad()\n",
    "    loss.backward()\n",
    "\n",
    "    torch.nn.utils.clip_grad_value_(policy_network.parameters(), 100)\n",
    "    optimizer.step()"
   ]
  },
  {
   "cell_type": "markdown",
   "id": "de04764e",
   "metadata": {},
   "source": [
    "#### Training Loop"
   ]
  },
  {
   "cell_type": "code",
   "execution_count": 12,
   "id": "dfcdfaf6",
   "metadata": {},
   "outputs": [
    {
     "data": {
      "text/plain": [
       "<Figure size 640x480 with 0 Axes>"
      ]
     },
     "metadata": {},
     "output_type": "display_data"
    }
   ],
   "source": [
    "if torch.cuda.is_available():\n",
    "    num_episodes = 600\n",
    "else:\n",
    "    num_episodes = 50\n",
    "\n",
    "# How many of the last episodes to take\n",
    "episode_reward_check = 50\n",
    "\n",
    "# What the limit of the average reward of the last reward_check episodes should be\n",
    "# If 1.0, this means that last reward_check episodes solved the problem\n",
    "# A more sophisticated value could be calculate to incorporate training time\n",
    "# This is good for now\n",
    "reward_limit = 0.85\n",
    "for e in curriculum:\n",
    "    print(f'Training on {e} for {num_episodes} episodes...')\n",
    "\n",
    "    # Make the new environment \n",
    "    env = gym.make(e)\n",
    "\n",
    "    # keep track of the last 50-100 rewards and if the average is 1.0 (learned), \n",
    "    # then break and go to next environment to save time\n",
    "    total_env_reward = []\n",
    "    for i_episode in range(num_episodes):\n",
    "\n",
    "        obs, _ = env.reset()\n",
    "        # permute(2, 0, 1) re-orders the image from (height, width, color) -> (color, height, width)\n",
    "        # adding .unsqueeze(0) adds the extra batch dimension to result in a (1, color, height, width)\n",
    "        state = torch.tensor(obs['image'], dtype=torch.float32, device=device).permute(2, 0, 1).unsqueeze(0)\n",
    "\n",
    "        # Append each reward to the array\n",
    "        # This will help track the progress of the last 50-100 \n",
    "        total_episode_reward = 0\n",
    "        for t in count(1):\n",
    "            # Select e-greedy action\n",
    "            action = select_action(state)\n",
    "            observation, reward, terminated, truncated, _ = env.step(action.item())\n",
    "            reward = torch.tensor([reward], device=device)\n",
    "            done = terminated or truncated\n",
    "\n",
    "            # Update the next_state with the next observationo unless it's terminated\n",
    "            if terminated:\n",
    "                next_state = None\n",
    "            else:\n",
    "                next_state = torch.tensor(observation['image'], dtype=torch.float32, device=device).permute(2, 0, 1).unsqueeze(0)\n",
    "\n",
    "            # Send experience to memory\n",
    "            memory.push(state, action, next_state, reward)\n",
    "            state = next_state\n",
    "\n",
    "            # Trigger the policy network to train\n",
    "            optimize_model()\n",
    "\n",
    "            # Soft update of the target network based on the current weights of policy_network\n",
    "            target_net_state_dict = target_network.state_dict()\n",
    "            policy_net_state_dict = policy_network.state_dict()\n",
    "\n",
    "            # Take the weights of the current target net and nudge them toward the policy net very slowly\n",
    "            for key in policy_net_state_dict:\n",
    "                target_net_state_dict[key] = policy_net_state_dict[key] * TAU \\\n",
    "                    + target_net_state_dict[key] * (1 - TAU)\n",
    "            \n",
    "            target_network.load_state_dict(target_net_state_dict)\n",
    "\n",
    "            total_episode_reward += reward.item()\n",
    "            \n",
    "            # print(f'Reward: {reward.item()}')\n",
    "\n",
    "            if done:\n",
    "                episode_durations.append(t)\n",
    "                episode_rewards.append(total_episode_reward)\n",
    "                plot_durations()\n",
    "                break\n",
    "        \n",
    "        # Check if the average reward from the last episode_reward_check number of episodes \n",
    "        # is within the reward_limit. If it is, break and move to next task\n",
    "        # Only check the average reward if there are enough episodes played\n",
    "        if len(total_env_reward) > episode_reward_check:\n",
    "            if sum(total_env_reward[-episode_reward_check:]) / episode_reward_check >= reward_limit:\n",
    "                break \n",
    "        \n",
    "        # If the limit hasn't been reached yet, add the current total_episode_reward and continue loop\n",
    "        total_env_reward.append(total_episode_reward)\n",
    "        "
   ]
  },
  {
   "cell_type": "code",
   "execution_count": 13,
   "id": "fc60f05d",
   "metadata": {},
   "outputs": [
    {
     "data": {
      "text/plain": [
       "288"
      ]
     },
     "execution_count": 13,
     "metadata": {},
     "output_type": "execute_result"
    }
   ],
   "source": [
    "env.unwrapped.max_steps"
   ]
  },
  {
   "cell_type": "code",
   "execution_count": 14,
   "id": "6f078c3a",
   "metadata": {},
   "outputs": [],
   "source": [
    "torch.save(policy_network.state_dict(), './models/policy_model.pt')"
   ]
  }
 ],
 "metadata": {
  "kernelspec": {
   "display_name": "lnn_env",
   "language": "python",
   "name": "python3"
  },
  "language_info": {
   "codemirror_mode": {
    "name": "ipython",
    "version": 3
   },
   "file_extension": ".py",
   "mimetype": "text/x-python",
   "name": "python",
   "nbconvert_exporter": "python",
   "pygments_lexer": "ipython3",
   "version": "3.10.16"
  }
 },
 "nbformat": 4,
 "nbformat_minor": 5
}

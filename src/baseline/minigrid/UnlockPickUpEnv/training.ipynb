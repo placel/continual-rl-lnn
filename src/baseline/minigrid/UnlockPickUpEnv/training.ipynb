{
 "cells": [
  {
   "cell_type": "markdown",
   "id": "b7e8b679",
   "metadata": {},
   "source": [
    "### UnlockPickUp Environment (Not Continual)\n",
    "\n",
    "Doing this for a simple implementation before continual, and before BabyAI (text input)"
   ]
  },
  {
   "cell_type": "markdown",
   "id": "1351901a",
   "metadata": {},
   "source": [
    "**Imports**"
   ]
  },
  {
   "cell_type": "code",
   "execution_count": 1,
   "id": "021cb44c",
   "metadata": {},
   "outputs": [
    {
     "name": "stderr",
     "output_type": "stream",
     "text": [
      "c:\\Users\\Logan\\anaconda3\\envs\\lnn_env\\lib\\site-packages\\pygame\\pkgdata.py:25: UserWarning: pkg_resources is deprecated as an API. See https://setuptools.pypa.io/en/latest/pkg_resources.html. The pkg_resources package is slated for removal as early as 2025-11-30. Refrain from using this package or pin to Setuptools<81.\n",
      "  from pkg_resources import resource_stream, resource_exists\n"
     ]
    }
   ],
   "source": [
    "import gymnasium as gym\n",
    "import minigrid\n",
    "import math\n",
    "import random\n",
    "import time\n",
    "import matplotlib\n",
    "import matplotlib.pyplot as plt\n",
    "from collections import namedtuple, deque\n",
    "from itertools import count"
   ]
  },
  {
   "cell_type": "code",
   "execution_count": 2,
   "id": "af1edcf3",
   "metadata": {},
   "outputs": [],
   "source": [
    "import torch\n",
    "import torch.nn as nn\n",
    "import torch.optim as optim"
   ]
  },
  {
   "cell_type": "code",
   "execution_count": 3,
   "id": "ae489fef",
   "metadata": {},
   "outputs": [
    {
     "data": {
      "text/plain": [
       "<contextlib.ExitStack at 0x173c28c7a90>"
      ]
     },
     "execution_count": 3,
     "metadata": {},
     "output_type": "execute_result"
    }
   ],
   "source": [
    "is_ipython = 'inline' in matplotlib.get_backend()\n",
    "if is_ipython:\n",
    "    from IPython import display\n",
    "\n",
    "plt.ion()"
   ]
  },
  {
   "cell_type": "code",
   "execution_count": 4,
   "id": "5fea74ef",
   "metadata": {},
   "outputs": [
    {
     "name": "stdout",
     "output_type": "stream",
     "text": [
      "Action Space: Discrete(7)\n",
      "Observation Space: Dict('direction': Discrete(4), 'image': Box(0, 255, (7, 7, 3), uint8), 'mission': MissionSpace(<function EmptyEnv._gen_mission at 0x00000173B7BADD80>, None))\n"
     ]
    }
   ],
   "source": [
    "# Make the miniGrid environment\n",
    "# env = gym.make('MiniGrid-UnlockPickup-v0')\n",
    "env = gym.make('MiniGrid-Empty-5x5-v0') # Learns this easily\n",
    "# env = gym.make('MiniGrid-DoorKey-5x5-v0')\n",
    "\n",
    "# Print out the number of Discrete actions available (output variables)\n",
    "print(f'Action Space: {env.action_space}')\n",
    "\n",
    "# Print out observation space (input variables)\n",
    "print(f'Observation Space: {env.observation_space}')"
   ]
  },
  {
   "cell_type": "code",
   "execution_count": 5,
   "id": "625d55eb",
   "metadata": {},
   "outputs": [
    {
     "name": "stdout",
     "output_type": "stream",
     "text": [
      "Selected Device: cuda\n"
     ]
    }
   ],
   "source": [
    "device = torch.device(\n",
    "    'cuda' if torch.cuda.is_available() else 'cpu'\n",
    ")\n",
    "\n",
    "print(f'Selected Device: {device}')"
   ]
  },
  {
   "cell_type": "markdown",
   "id": "2e01a918",
   "metadata": {},
   "source": [
    "#### Replay Memory Buffer\n",
    "\n",
    "Stores past 'Transition' states of up to 10,000 (play around with this) of the latest experiences "
   ]
  },
  {
   "cell_type": "code",
   "execution_count": 6,
   "id": "0ffd8861",
   "metadata": {},
   "outputs": [],
   "source": [
    "Transition = namedtuple('Transition', ('state', 'action', 'next_state', 'reward'))\n",
    "\n",
    "class ReplayMemory(object):\n",
    "\n",
    "    def __init__(self, capacity):\n",
    "        # Creates a deque object storing type array with a capacity\n",
    "        # Once capacity is reached, old experiences will automatically be overwriteen with the new\n",
    "        self.memory = deque([], maxlen=capacity)\n",
    "\n",
    "    # Save the transition to the memory\n",
    "    def push(self, *args):\n",
    "        self.memory.append(Transition(*args))\n",
    "\n",
    "    # Return batch_size samples for use in optimization \n",
    "    def sample(self, batch_size):\n",
    "        return random.sample(self.memory, batch_size)\n",
    "    \n",
    "    def __len__(self):\n",
    "        return len(self.memory)"
   ]
  },
  {
   "cell_type": "code",
   "execution_count": 7,
   "id": "1db51f7d",
   "metadata": {},
   "outputs": [],
   "source": [
    "# Import the custom NN model\n",
    "from DQN import UnlockPickUpDQN"
   ]
  },
  {
   "cell_type": "markdown",
   "id": "37e854ca",
   "metadata": {},
   "source": [
    "#### Pre-Training Setup\n",
    "\n",
    "Defining variables and creating networks (policy and target) that will be used in training "
   ]
  },
  {
   "cell_type": "code",
   "execution_count": 8,
   "id": "91e9e085",
   "metadata": {},
   "outputs": [
    {
     "name": "stdout",
     "output_type": "stream",
     "text": [
      "7\n"
     ]
    }
   ],
   "source": [
    "BATCH_SIZE = 128\n",
    "GAMMA = 0.99 # Discount factor on future states\n",
    "\n",
    "# Epsilon-greedy variables needed\n",
    "EPS_START = 0.9 # Start off encouraging the model to explore\n",
    "EPS_END = 0.05 # After exploring, the model will stabilize and rarely explore\n",
    "EPS_DECAY = 1000 # Rate at which the epsilon threshold will decrease (exponent)\n",
    "\n",
    "TAU = 0.005 # Rate at which the target network will be updated\n",
    "LR = 1e-4 # Learning rate of the policy net\n",
    "\n",
    "# Store number of possible actions the model can take (7)\n",
    "n_actions = env.action_space.n\n",
    "\n",
    "state, _ = env.reset()\n",
    "\n",
    "# Number of inputs to the model. In this case there are 3 as shown above\n",
    "n_observations = len(state)\n",
    "\n",
    "print(n_actions)\n",
    "# Increase for a more complex network\n",
    "hidden_dim = 256\n",
    "\n",
    "# Create the policy and target network\n",
    "policy_network = UnlockPickUpDQN(n_actions, hidden_dim)\n",
    "target_network = UnlockPickUpDQN(n_actions, hidden_dim)\n",
    "\n",
    "# Initialize the target_network to be the same as policy (this is cruicial)\n",
    "target_network.load_state_dict(policy_network.state_dict())\n",
    "\n",
    "# Send models to device\n",
    "policy_network.to(device)\n",
    "target_network.to(device)\n",
    "\n",
    "optimizer = optim.AdamW(policy_network.parameters(), lr=LR, amsgrad=True)\n",
    "\n",
    "# Customize capacity for bigger nets\n",
    "memory = ReplayMemory(10_000)"
   ]
  },
  {
   "cell_type": "markdown",
   "id": "5e510ff1",
   "metadata": {},
   "source": [
    "#### Epsilon-Greedy Select Function"
   ]
  },
  {
   "cell_type": "code",
   "execution_count": 9,
   "id": "7b2cc44e",
   "metadata": {},
   "outputs": [],
   "source": [
    "steps_done = 0\n",
    "\n",
    "def select_action(state):\n",
    "    global steps_done\n",
    "\n",
    "    # Generate the random number for epsilon greedy selection\n",
    "    sample = random.random()\n",
    "    eps_threshold = EPS_END + (EPS_START - EPS_END) * math.exp(-1. * steps_done / EPS_DECAY)\n",
    "\n",
    "    # Greedy action selection takes place here\n",
    "    steps_done += 1\n",
    "    if sample > eps_threshold:\n",
    "        with torch.no_grad():\n",
    "            # PAss the state through the model without gradient descent (we're not learning here, just need an action)\n",
    "            # Select the max Q-Value (action) the model chose and return the reshaped index of said action\n",
    "            return policy_network(state).max(1).indices.view(1, 1)\n",
    "    else:\n",
    "        # If random action is selected, choose a random action from env, and send to device\n",
    "        return torch.tensor([[env.action_space.sample()]], device=device, dtype=torch.long)    \n"
   ]
  },
  {
   "cell_type": "markdown",
   "id": "35da8412",
   "metadata": {},
   "source": [
    "#### Plotting Definitions"
   ]
  },
  {
   "cell_type": "code",
   "execution_count": 10,
   "id": "c6a91fcf",
   "metadata": {},
   "outputs": [],
   "source": [
    "episode_durations = []\n",
    "episode_rewards = []\n",
    "\n",
    "# def plot_durations(show_result=False):\n",
    "#     plt.figure(1)\n",
    "#     durations_t = torch.tensor(episode_durations, dtype=torch.float)\n",
    "#     if show_result:\n",
    "#         plt.title('Result')\n",
    "#     else:\n",
    "#         plt.clf() # Clear current figure\n",
    "#         plt.title('Training...')\n",
    "\n",
    "#     plt.xlabel('Episode')\n",
    "#     plt.ylabel('Duration')\n",
    "#     plt.plot(durations_t.numpy())\n",
    "\n",
    "#     # Additionally, start plotting the mean after 100 episodes\n",
    "#     if len(durations_t) >= 100:\n",
    "#         means = durations_t.unfold(0, 100, 1).mean(1).view(-1)\n",
    "#         means = torch.cat((torch.zeros(99), means))\n",
    "#         plt.plot(means.numpy())\n",
    "\n",
    "#     plt.pause(0.001)\n",
    "#     if is_ipython:\n",
    "#         if not show_result:\n",
    "#             display.display(plt.gcf())\n",
    "#             display.clear_output(wait=True)\n",
    "#         else:\n",
    "#             display.display(plt.gcf())\n",
    "\n",
    "def plot_durations(show_result=False):\n",
    "    plt.figure(1)\n",
    "    plt.clf()\n",
    "    \n",
    "    durations_t = torch.tensor(episode_durations, dtype=torch.float)\n",
    "    rewards_t = torch.tensor(episode_rewards, dtype=torch.float)\n",
    "\n",
    "    plt.subplot(2, 1, 1)\n",
    "    plt.title('Episode Duration')\n",
    "    plt.xlabel('Episode')\n",
    "    plt.ylabel('Duration')\n",
    "    plt.plot(durations_t.numpy())\n",
    "    if len(durations_t) >= 100:\n",
    "        means = durations_t.unfold(0, 100, 1).mean(1).view(-1)\n",
    "        means = torch.cat((torch.zeros(99), means))\n",
    "        plt.plot(means.numpy())\n",
    "\n",
    "    plt.subplot(2, 1, 2)\n",
    "    plt.title('Episode Reward')\n",
    "    plt.xlabel('Episode')\n",
    "    plt.ylabel('Reward')\n",
    "    plt.plot(rewards_t.numpy())\n",
    "    if len(rewards_t) >= 100:\n",
    "        means = rewards_t.unfold(0, 100, 1).mean(1).view(-1)\n",
    "        means = torch.cat((torch.zeros(99), means))\n",
    "        plt.plot(means.numpy())\n",
    "\n",
    "    plt.tight_layout()\n",
    "    plt.pause(0.001)\n",
    "    if is_ipython:\n",
    "        if not show_result:\n",
    "            display.display(plt.gcf())\n",
    "            display.clear_output(wait=True)\n",
    "        else:\n",
    "            display.display(plt.gcf())\n"
   ]
  },
  {
   "cell_type": "markdown",
   "id": "ff2c6d3d",
   "metadata": {},
   "source": [
    "#### Model Optimization\n",
    "\n",
    "Where the learning of the policy network occurs"
   ]
  },
  {
   "cell_type": "code",
   "execution_count": 11,
   "id": "997839b2",
   "metadata": {},
   "outputs": [],
   "source": [
    "def optimize_model():\n",
    "    \n",
    "    # Build up the memory first\n",
    "    if len(memory) < BATCH_SIZE:\n",
    "        return\n",
    "    \n",
    "    # Select a batch of memories to learn from\n",
    "    transitions = memory.sample(BATCH_SIZE)\n",
    "\n",
    "    # Reshape array of tuple Transitions into array of tensor transitions\n",
    "    # Combine into a single Transition capable of being batch processed\n",
    "    # I don't really get this line. Just reshapes and redefines\n",
    "    batch = Transition(*zip(*transitions))\n",
    "\n",
    "    non_terminal_mask = torch.tensor(\n",
    "        # For every state, if it's not terminal, return the next_state\n",
    "        tuple(map(lambda s: s is not None, batch.next_state)),\n",
    "        device=device,\n",
    "        dtype=torch.bool\n",
    "    )\n",
    "\n",
    "    # Extract all non-terminal next_states from the current batch\n",
    "    non_terminal_next_states = torch.cat([s for s in batch.next_state if s is not None])\n",
    "\n",
    "    # Store the state, action, and reward of each item in the batch\n",
    "    state_batch = torch.cat(batch.state)\n",
    "    action_batch = torch.cat(batch.action)\n",
    "    reward_batch = torch.cat(batch.reward)\n",
    "\n",
    "    # Select the corrosponding index of the actual action taken to get the Q-Value for that action\n",
    "    state_action_values = policy_network(state_batch).gather(1, action_batch)\n",
    "\n",
    "    next_states_values = torch.zeros(BATCH_SIZE, device=device)\n",
    "    with torch.no_grad():\n",
    "        # Get what action the target_network would have taken in this position\n",
    "        # Only in states that don't terminate\n",
    "        next_states_values[non_terminal_mask] = target_network(non_terminal_next_states).max(1).values\n",
    "\n",
    "    # Calculate the bellman equation for usage in the loss calculation\n",
    "    expected_state_action_values = (next_states_values * GAMMA) + reward_batch\n",
    "\n",
    "    # Calculate the loss\n",
    "    criterion = nn.SmoothL1Loss()\n",
    "    loss = criterion(state_action_values, expected_state_action_values.unsqueeze(1))\n",
    "\n",
    "    optimizer.zero_grad()\n",
    "    loss.backward()\n",
    "\n",
    "    torch.nn.utils.clip_grad_value_(policy_network.parameters(), 100)\n",
    "    optimizer.step()"
   ]
  },
  {
   "cell_type": "markdown",
   "id": "c8df8a61",
   "metadata": {},
   "source": [
    "#### Training Loop"
   ]
  },
  {
   "cell_type": "code",
   "execution_count": 12,
   "id": "5cb9d428",
   "metadata": {},
   "outputs": [
    {
     "ename": "KeyboardInterrupt",
     "evalue": "",
     "output_type": "error",
     "traceback": [
      "\u001b[1;31m---------------------------------------------------------------------------\u001b[0m",
      "\u001b[1;31mKeyboardInterrupt\u001b[0m                         Traceback (most recent call last)",
      "Cell \u001b[1;32mIn[12], line 19\u001b[0m\n\u001b[0;32m     17\u001b[0m action \u001b[38;5;241m=\u001b[39m select_action(state)\n\u001b[0;32m     18\u001b[0m observation, reward, terminated, truncated, _ \u001b[38;5;241m=\u001b[39m env\u001b[38;5;241m.\u001b[39mstep(action\u001b[38;5;241m.\u001b[39mitem())\n\u001b[1;32m---> 19\u001b[0m reward \u001b[38;5;241m=\u001b[39m \u001b[43mtorch\u001b[49m\u001b[38;5;241;43m.\u001b[39;49m\u001b[43mtensor\u001b[49m\u001b[43m(\u001b[49m\u001b[43m[\u001b[49m\u001b[43mreward\u001b[49m\u001b[43m]\u001b[49m\u001b[43m,\u001b[49m\u001b[43m \u001b[49m\u001b[43mdevice\u001b[49m\u001b[38;5;241;43m=\u001b[39;49m\u001b[43mdevice\u001b[49m\u001b[43m)\u001b[49m\n\u001b[0;32m     20\u001b[0m done \u001b[38;5;241m=\u001b[39m terminated \u001b[38;5;129;01mor\u001b[39;00m truncated\n\u001b[0;32m     22\u001b[0m \u001b[38;5;66;03m# Update the next_state with the next observationo unless it's terminated\u001b[39;00m\n",
      "\u001b[1;31mKeyboardInterrupt\u001b[0m: "
     ]
    },
    {
     "data": {
      "text/plain": [
       "<Figure size 640x480 with 0 Axes>"
      ]
     },
     "metadata": {},
     "output_type": "display_data"
    }
   ],
   "source": [
    "if torch.cuda.is_available():\n",
    "    num_episodes = 600\n",
    "else:\n",
    "    num_episodes = 50\n",
    "\n",
    "print(f'Training for {num_episodes} episodes...')\n",
    "for i_episode in range(num_episodes):\n",
    "\n",
    "    obs, _ = env.reset()\n",
    "    # permute(2, 0, 1) re-orders the image from (height, width, color) -> (color, height, width)\n",
    "    # adding .unsqueeze(0) adds the extra batch dimension to result in a (1, color, height, width)\n",
    "    state = torch.tensor(obs['image'], dtype=torch.float32, device=device).permute(2, 0, 1).unsqueeze(0)\n",
    "\n",
    "    total_reward = 0\n",
    "    for t in count(1):\n",
    "        # Select e-greedy action\n",
    "        action = select_action(state)\n",
    "        observation, reward, terminated, truncated, _ = env.step(action.item())\n",
    "        reward = torch.tensor([reward], device=device)\n",
    "        done = terminated or truncated\n",
    "\n",
    "        # Update the next_state with the next observationo unless it's terminated\n",
    "        if terminated:\n",
    "            next_state = None\n",
    "        else:\n",
    "            next_state = torch.tensor(observation['image'], dtype=torch.float32, device=device).permute(2, 0, 1).unsqueeze(0)\n",
    "\n",
    "        # Send experience to memory\n",
    "        memory.push(state, action, next_state, reward)\n",
    "        state = next_state\n",
    "\n",
    "        # Trigger the policy network to train\n",
    "        optimize_model()\n",
    "\n",
    "        # Soft update of the target network based on the current weights of policy_network\n",
    "        target_net_state_dict = target_network.state_dict()\n",
    "        policy_net_state_dict = policy_network.state_dict()\n",
    "\n",
    "        # Take the weights of the current target net and nudge them toward the policy net very slowly\n",
    "        for key in policy_net_state_dict:\n",
    "            target_net_state_dict[key] = policy_net_state_dict[key] * TAU \\\n",
    "                + target_net_state_dict[key] * (1 - TAU)\n",
    "        \n",
    "        target_network.load_state_dict(target_net_state_dict)\n",
    "\n",
    "        total_reward += reward.item()\n",
    "\n",
    "        if done:\n",
    "            episode_durations.append(t)\n",
    "            episode_rewards.append(total_reward)\n",
    "            plot_durations()\n",
    "            break\n",
    "\n",
    "print('Complete')\n",
    "plot_durations(show_result=True)\n",
    "plt.ioff()\n",
    "plt.show()"
   ]
  },
  {
   "cell_type": "code",
   "execution_count": null,
   "id": "0cc2be6c",
   "metadata": {},
   "outputs": [],
   "source": [
    "torch.save(policy_network.state_dict(), './models/policy_model.pt')"
   ]
  }
 ],
 "metadata": {
  "kernelspec": {
   "display_name": "lnn_env",
   "language": "python",
   "name": "python3"
  },
  "language_info": {
   "codemirror_mode": {
    "name": "ipython",
    "version": 3
   },
   "file_extension": ".py",
   "mimetype": "text/x-python",
   "name": "python",
   "nbconvert_exporter": "python",
   "pygments_lexer": "ipython3",
   "version": "3.10.16"
  }
 },
 "nbformat": 4,
 "nbformat_minor": 5
}
